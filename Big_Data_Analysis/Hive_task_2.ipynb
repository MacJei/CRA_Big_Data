{
 "cells": [
  {
   "cell_type": "markdown",
   "metadata": {},
   "source": [
    "Compare most popular tags in year 2016 with tags in 2009. Tag popularity is the number of questions (post_type_id=1) with this tag. Output top 10 tags in format:\n",
    "```\n",
    "tag <tab> rank in 2016 <tab> rank in 2009 <tag> tag popularity in 2016 <tag> tag popularity in 2009\n",
    "```\n",
    "Example:\n",
    "```\n",
    "php 5 3 1234 5678\n",
    "```\n",
    "For 'rank' in each year use rank() function. Order by 'rank in 2016'.\n"
   ]
  },
  {
   "cell_type": "code",
   "execution_count": 1,
   "metadata": {},
   "outputs": [
    {
     "name": "stdout",
     "output_type": "stream",
     "text": [
      "Writing query.hql\n"
     ]
    }
   ],
   "source": [
    "%%writefile  query.hql\n",
    "\n",
    "USE stackoverflow_;\n",
    "\n",
    "SELECT \n",
    "    tag,\n",
    "    rank() OVER (ORDER BY count_16 DESC) rank_16,\n",
    "    rank() OVER (ORDER BY count_09 DESC) rank_09,\n",
    "    count_16,\n",
    "    count_09\n",
    "FROM (\n",
    "    SELECT \n",
    "        tag,\n",
    "        sum(if(year = '2009', 1, 0)) count_09,\n",
    "        sum(if(year = '2016', 1, 0)) count_16\n",
    "    FROM posts\n",
    "    LATERAL VIEW explode(tags) tag as tag\n",
    "    WHERE \n",
    "        post_type_id = 1 \n",
    "        AND year IN ('2009', '2016') \n",
    "    GROUP BY tag\n",
    ") tags_table\n",
    "ORDER BY rank_16\n",
    "LIMIT 10;"
   ]
  },
  {
   "cell_type": "code",
   "execution_count": 2,
   "metadata": {},
   "outputs": [
    {
     "name": "stdout",
     "output_type": "stream",
     "text": [
      "\n",
      "Logging initialized using configuration in jar:file:/usr/local/apache-hive-1.1.0-bin/lib/hive-common-1.1.0.jar!/hive-log4j.properties\n",
      "OK\n",
      "Time taken: 1.121 seconds\n",
      "Query ID = jovyan_20180612070808_d04a734e-ff03-4237-a77d-ae180109c665\n",
      "Total jobs = 4\n",
      "Launching Job 1 out of 4\n",
      "Number of reduce tasks not specified. Estimated from input data size: 1\n",
      "In order to change the average load for a reducer (in bytes):\n",
      "  set hive.exec.reducers.bytes.per.reducer=<number>\n",
      "In order to limit the maximum number of reducers:\n",
      "  set hive.exec.reducers.max=<number>\n",
      "In order to set a constant number of reducers:\n",
      "  set mapreduce.job.reduces=<number>\n",
      "Starting Job = job_1528752913068_0001, Tracking URL = http://33bc756d5443:8088/proxy/application_1528752913068_0001/\n",
      "Kill Command = /opt/hadoop/bin/hadoop job  -kill job_1528752913068_0001\n",
      "Hadoop job information for Stage-1: number of mappers: 1; number of reducers: 1\n",
      "2018-06-12 07:08:47,699 Stage-1 map = 0%,  reduce = 0%\n",
      "2018-06-12 07:08:58,586 Stage-1 map = 100%,  reduce = 0%, Cumulative CPU 9.2 sec\n",
      "2018-06-12 07:09:07,339 Stage-1 map = 100%,  reduce = 100%, Cumulative CPU 14.69 sec\n",
      "MapReduce Total cumulative CPU time: 14 seconds 690 msec\n",
      "Ended Job = job_1528752913068_0001\n",
      "Launching Job 2 out of 4\n",
      "Number of reduce tasks not specified. Estimated from input data size: 1\n",
      "In order to change the average load for a reducer (in bytes):\n",
      "  set hive.exec.reducers.bytes.per.reducer=<number>\n",
      "In order to limit the maximum number of reducers:\n",
      "  set hive.exec.reducers.max=<number>\n",
      "In order to set a constant number of reducers:\n",
      "  set mapreduce.job.reduces=<number>\n",
      "Starting Job = job_1528752913068_0002, Tracking URL = http://33bc756d5443:8088/proxy/application_1528752913068_0002/\n",
      "Kill Command = /opt/hadoop/bin/hadoop job  -kill job_1528752913068_0002\n",
      "Hadoop job information for Stage-2: number of mappers: 1; number of reducers: 1\n",
      "2018-06-12 07:09:25,918 Stage-2 map = 0%,  reduce = 0%\n",
      "2018-06-12 07:09:33,539 Stage-2 map = 100%,  reduce = 0%, Cumulative CPU 3.42 sec\n",
      "2018-06-12 07:09:43,192 Stage-2 map = 100%,  reduce = 100%, Cumulative CPU 10.21 sec\n",
      "MapReduce Total cumulative CPU time: 10 seconds 210 msec\n",
      "Ended Job = job_1528752913068_0002\n",
      "Launching Job 3 out of 4\n",
      "Number of reduce tasks not specified. Estimated from input data size: 1\n",
      "In order to change the average load for a reducer (in bytes):\n",
      "  set hive.exec.reducers.bytes.per.reducer=<number>\n",
      "In order to limit the maximum number of reducers:\n",
      "  set hive.exec.reducers.max=<number>\n",
      "In order to set a constant number of reducers:\n",
      "  set mapreduce.job.reduces=<number>\n",
      "Starting Job = job_1528752913068_0003, Tracking URL = http://33bc756d5443:8088/proxy/application_1528752913068_0003/\n",
      "Kill Command = /opt/hadoop/bin/hadoop job  -kill job_1528752913068_0003\n",
      "Hadoop job information for Stage-3: number of mappers: 1; number of reducers: 1\n",
      "2018-06-12 07:10:00,142 Stage-3 map = 0%,  reduce = 0%\n",
      "2018-06-12 07:10:09,767 Stage-3 map = 100%,  reduce = 0%, Cumulative CPU 5.58 sec\n",
      "2018-06-12 07:10:19,413 Stage-3 map = 100%,  reduce = 100%, Cumulative CPU 12.35 sec\n",
      "MapReduce Total cumulative CPU time: 12 seconds 350 msec\n",
      "Ended Job = job_1528752913068_0003\n",
      "Launching Job 4 out of 4\n",
      "Number of reduce tasks determined at compile time: 1\n",
      "In order to change the average load for a reducer (in bytes):\n",
      "  set hive.exec.reducers.bytes.per.reducer=<number>\n",
      "In order to limit the maximum number of reducers:\n",
      "  set hive.exec.reducers.max=<number>\n",
      "In order to set a constant number of reducers:\n",
      "  set mapreduce.job.reduces=<number>\n",
      "Starting Job = job_1528752913068_0004, Tracking URL = http://33bc756d5443:8088/proxy/application_1528752913068_0004/\n",
      "Kill Command = /opt/hadoop/bin/hadoop job  -kill job_1528752913068_0004\n",
      "Hadoop job information for Stage-4: number of mappers: 1; number of reducers: 1\n",
      "2018-06-12 07:10:37,125 Stage-4 map = 0%,  reduce = 0%\n",
      "2018-06-12 07:10:44,758 Stage-4 map = 100%,  reduce = 0%, Cumulative CPU 3.88 sec\n",
      "2018-06-12 07:10:53,351 Stage-4 map = 100%,  reduce = 100%, Cumulative CPU 7.61 sec\n",
      "MapReduce Total cumulative CPU time: 7 seconds 610 msec\n",
      "Ended Job = job_1528752913068_0004\n",
      "MapReduce Jobs Launched: \n",
      "Stage-Stage-1: Map: 1  Reduce: 1   Cumulative CPU: 14.69 sec   HDFS Read: 970665 HDFS Write: 316407 SUCCESS\n",
      "Stage-Stage-2: Map: 1  Reduce: 1   Cumulative CPU: 10.21 sec   HDFS Read: 322334 HDFS Write: 347254 SUCCESS\n",
      "Stage-Stage-3: Map: 1  Reduce: 1   Cumulative CPU: 12.35 sec   HDFS Read: 353631 HDFS Write: 378100 SUCCESS\n",
      "Stage-Stage-4: Map: 1  Reduce: 1   Cumulative CPU: 7.61 sec   HDFS Read: 383261 HDFS Write: 188 SUCCESS\n",
      "Total MapReduce CPU Time Spent: 44 seconds 860 msec\n",
      "OK\n",
      "javascript\t1\t5\t2771\t192\n",
      "java\t2\t2\t2033\t243\n",
      "android\t3\t52\t1809\t25\n",
      "php\t4\t3\t1673\t215\n",
      "python\t5\t11\t1585\t108\n",
      "c#\t6\t1\t1519\t423\n",
      "html\t7\t14\t1212\t84\n",
      "jquery\t8\t8\t1167\t141\n",
      "ios\t9\t186\t914\t7\n",
      "css\t10\t20\t801\t59\n",
      "Time taken: 148.98 seconds, Fetched: 10 row(s)\n"
     ]
    }
   ],
   "source": [
    "! hive -f query.hql"
   ]
  },
  {
   "cell_type": "code",
   "execution_count": null,
   "metadata": {},
   "outputs": [],
   "source": []
  }
 ],
 "metadata": {
  "kernelspec": {
   "display_name": "Python 2",
   "language": "python",
   "name": "python2"
  },
  "language_info": {
   "codemirror_mode": {
    "name": "ipython",
    "version": 2
   },
   "file_extension": ".py",
   "mimetype": "text/x-python",
   "name": "python",
   "nbconvert_exporter": "python",
   "pygments_lexer": "ipython2",
   "version": "2.7.12"
  }
 },
 "nbformat": 4,
 "nbformat_minor": 2
}
