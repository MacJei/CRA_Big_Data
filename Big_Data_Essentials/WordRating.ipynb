{
 "cells": [
  {
   "cell_type": "code",
   "execution_count": 28,
   "metadata": {},
   "outputs": [
    {
     "name": "stdout",
     "output_type": "stream",
     "text": [
      "Overwriting mapper.py\n"
     ]
    }
   ],
   "source": [
    "%%writefile mapper.py\n",
    "\n",
    "import sys\n",
    "import re\n",
    "\n",
    "reload(sys)\n",
    "sys.setdefaultencoding('utf-8') # required to convert to unicode\n",
    "\n",
    "for line in sys.stdin:\n",
    "    try:\n",
    "        article_id, text = unicode(line.strip()).split('\\t', 1)\n",
    "    except ValueError as e:\n",
    "        continue\n",
    "    words = re.split(\"\\W*\\s+\\W*\", text, flags=re.UNICODE)\n",
    "    for word in words:\n",
    "        print >> sys.stderr, \"reporter:counter:Wiki stats,Total words,%d\" % 1\n",
    "        print \"%s\\t%d\" % (word.lower(), 1)"
   ]
  },
  {
   "cell_type": "code",
   "execution_count": 29,
   "metadata": {},
   "outputs": [
    {
     "name": "stdout",
     "output_type": "stream",
     "text": [
      "Overwriting reducer.py\n"
     ]
    }
   ],
   "source": [
    "%%writefile reducer.py\n",
    "\n",
    "import sys\n",
    "\n",
    "current_key = None\n",
    "word_sum = 0"
   ]
  },
  {
   "cell_type": "code",
   "execution_count": 30,
   "metadata": {},
   "outputs": [
    {
     "name": "stdout",
     "output_type": "stream",
     "text": [
      "Appending to reducer.py\n"
     ]
    }
   ],
   "source": [
    "%%writefile -a reducer.py\n",
    "\n",
    "for line in sys.stdin:\n",
    "    try:\n",
    "        key, count = line.strip().split('\\t', 1)\n",
    "        count = int(count)\n",
    "    except ValueError as e:\n",
    "        continue\n",
    "    if current_key != key:\n",
    "        if current_key:\n",
    "            print \"%s\\t%d\" % (current_key, word_sum)\n",
    "        word_sum = 0\n",
    "        current_key = key\n",
    "    word_sum += count\n",
    "\n",
    "if current_key:\n",
    "    print \"%s\\t%d\" % (current_key, word_sum)"
   ]
  },
  {
   "cell_type": "code",
   "execution_count": 31,
   "metadata": {},
   "outputs": [
    {
     "name": "stdout",
     "output_type": "stream",
     "text": [
      "-rwxrwxrwx   1 jovyan supergroup     73.3 M 2017-11-28 21:41 /data/wiki/en_articles_part/articles-part\r\n"
     ]
    }
   ],
   "source": [
    "! hdfs dfs -ls -h /data/wiki/en_articles_part/articles-part"
   ]
  },
  {
   "cell_type": "code",
   "execution_count": 36,
   "metadata": {},
   "outputs": [
    {
     "name": "stdout",
     "output_type": "stream",
     "text": [
      "is\t126420\n"
     ]
    },
    {
     "name": "stderr",
     "output_type": "stream",
     "text": [
      "18/03/22 16:53:20 INFO client.RMProxy: Connecting to ResourceManager at /0.0.0.0:8032\n",
      "18/03/22 16:53:20 INFO client.RMProxy: Connecting to ResourceManager at /0.0.0.0:8032\n",
      "18/03/22 16:53:21 INFO mapred.FileInputFormat: Total input files to process : 1\n",
      "18/03/22 16:53:21 INFO mapreduce.JobSubmitter: number of splits:2\n",
      "18/03/22 16:53:21 INFO mapreduce.JobSubmitter: Submitting tokens for job: job_1521700201014_0016\n",
      "18/03/22 16:53:21 INFO impl.YarnClientImpl: Submitted application application_1521700201014_0016\n",
      "18/03/22 16:53:21 INFO mapreduce.Job: The url to track the job: http://0175c2e98ef9:8088/proxy/application_1521700201014_0016/\n",
      "18/03/22 16:53:21 INFO mapreduce.Job: Running job: job_1521700201014_0016\n",
      "18/03/22 16:53:29 INFO mapreduce.Job: Job job_1521700201014_0016 running in uber mode : false\n",
      "18/03/22 16:53:29 INFO mapreduce.Job:  map 0% reduce 0%\n",
      "18/03/22 16:53:46 INFO mapreduce.Job:  map 19% reduce 0%\n",
      "18/03/22 16:53:52 INFO mapreduce.Job:  map 29% reduce 0%\n",
      "18/03/22 16:53:58 INFO mapreduce.Job:  map 38% reduce 0%\n",
      "18/03/22 16:54:04 INFO mapreduce.Job:  map 45% reduce 0%\n",
      "18/03/22 16:54:10 INFO mapreduce.Job:  map 48% reduce 0%\n",
      "18/03/22 16:54:16 INFO mapreduce.Job:  map 57% reduce 0%\n",
      "18/03/22 16:54:22 INFO mapreduce.Job:  map 65% reduce 0%\n",
      "18/03/22 16:54:28 INFO mapreduce.Job:  map 83% reduce 0%\n",
      "18/03/22 16:54:29 INFO mapreduce.Job:  map 100% reduce 0%\n",
      "18/03/22 16:54:37 INFO mapreduce.Job:  map 100% reduce 13%\n",
      "18/03/22 16:54:39 INFO mapreduce.Job:  map 100% reduce 25%\n",
      "18/03/22 16:54:44 INFO mapreduce.Job:  map 100% reduce 50%\n",
      "18/03/22 16:54:47 INFO mapreduce.Job:  map 100% reduce 63%\n",
      "18/03/22 16:54:48 INFO mapreduce.Job:  map 100% reduce 88%\n",
      "18/03/22 16:54:49 INFO mapreduce.Job:  map 100% reduce 100%\n",
      "18/03/22 16:54:49 INFO mapreduce.Job: Job job_1521700201014_0016 completed successfully\n",
      "18/03/22 16:54:49 INFO mapreduce.Job: Counters: 51\n",
      "\tFile System Counters\n",
      "\t\tFILE: Number of bytes read=17954826\n",
      "\t\tFILE: Number of bytes written=28256493\n",
      "\t\tFILE: Number of read operations=0\n",
      "\t\tFILE: Number of large read operations=0\n",
      "\t\tFILE: Number of write operations=0\n",
      "\t\tHDFS: Number of bytes read=76874501\n",
      "\t\tHDFS: Number of bytes written=5370513\n",
      "\t\tHDFS: Number of read operations=30\n",
      "\t\tHDFS: Number of large read operations=0\n",
      "\t\tHDFS: Number of write operations=16\n",
      "\tJob Counters \n",
      "\t\tKilled reduce tasks=1\n",
      "\t\tLaunched map tasks=2\n",
      "\t\tLaunched reduce tasks=8\n",
      "\t\tData-local map tasks=2\n",
      "\t\tTotal time spent by all maps in occupied slots (ms)=115809\n",
      "\t\tTotal time spent by all reduces in occupied slots (ms)=79218\n",
      "\t\tTotal time spent by all map tasks (ms)=115809\n",
      "\t\tTotal time spent by all reduce tasks (ms)=79218\n",
      "\t\tTotal vcore-milliseconds taken by all map tasks=115809\n",
      "\t\tTotal vcore-milliseconds taken by all reduce tasks=79218\n",
      "\t\tTotal megabyte-milliseconds taken by all map tasks=118588416\n",
      "\t\tTotal megabyte-milliseconds taken by all reduce tasks=81119232\n",
      "\tMap-Reduce Framework\n",
      "\t\tMap input records=4100\n",
      "\t\tMap output records=11937375\n",
      "\t\tMap output bytes=97842436\n",
      "\t\tMap output materialized bytes=8952763\n",
      "\t\tInput split bytes=228\n",
      "\t\tCombine input records=11937375\n",
      "\t\tCombine output records=640011\n",
      "\t\tReduce input groups=427175\n",
      "\t\tReduce shuffle bytes=8952763\n",
      "\t\tReduce input records=640011\n",
      "\t\tReduce output records=427175\n",
      "\t\tSpilled Records=1920033\n",
      "\t\tShuffled Maps =16\n",
      "\t\tFailed Shuffles=0\n",
      "\t\tMerged Map outputs=16\n",
      "\t\tGC time elapsed (ms)=1457\n",
      "\t\tCPU time spent (ms)=197740\n",
      "\t\tPhysical memory (bytes) snapshot=1915895808\n",
      "\t\tVirtual memory (bytes) snapshot=19654582272\n",
      "\t\tTotal committed heap usage (bytes)=1300234240\n",
      "\tShuffle Errors\n",
      "\t\tBAD_ID=0\n",
      "\t\tCONNECTION=0\n",
      "\t\tIO_ERROR=0\n",
      "\t\tWRONG_LENGTH=0\n",
      "\t\tWRONG_MAP=0\n",
      "\t\tWRONG_REDUCE=0\n",
      "\tWiki stats\n",
      "\t\tTotal words=11937375\n",
      "\tFile Input Format Counters \n",
      "\t\tBytes Read=76874273\n",
      "\tFile Output Format Counters \n",
      "\t\tBytes Written=5370513\n",
      "18/03/22 16:54:49 INFO streaming.StreamJob: Output directory: wordcount_result_1521737598903715\n",
      "18/03/22 16:54:52 INFO client.RMProxy: Connecting to ResourceManager at /0.0.0.0:8032\n",
      "18/03/22 16:54:52 INFO client.RMProxy: Connecting to ResourceManager at /0.0.0.0:8032\n",
      "18/03/22 16:54:53 INFO mapred.FileInputFormat: Total input files to process : 8\n",
      "18/03/22 16:54:53 INFO mapreduce.JobSubmitter: number of splits:8\n",
      "18/03/22 16:54:53 INFO mapreduce.JobSubmitter: Submitting tokens for job: job_1521700201014_0017\n",
      "18/03/22 16:54:53 INFO impl.YarnClientImpl: Submitted application application_1521700201014_0017\n",
      "18/03/22 16:54:53 INFO mapreduce.Job: The url to track the job: http://0175c2e98ef9:8088/proxy/application_1521700201014_0017/\n",
      "18/03/22 16:54:53 INFO mapreduce.Job: Running job: job_1521700201014_0017\n",
      "18/03/22 16:55:03 INFO mapreduce.Job: Job job_1521700201014_0017 running in uber mode : false\n",
      "18/03/22 16:55:03 INFO mapreduce.Job:  map 0% reduce 0%\n",
      "18/03/22 16:55:15 INFO mapreduce.Job:  map 25% reduce 0%\n",
      "18/03/22 16:55:16 INFO mapreduce.Job:  map 75% reduce 0%\n",
      "18/03/22 16:55:22 INFO mapreduce.Job:  map 88% reduce 0%\n",
      "18/03/22 16:55:23 INFO mapreduce.Job:  map 100% reduce 0%\n",
      "18/03/22 16:55:27 INFO mapreduce.Job:  map 100% reduce 100%\n",
      "18/03/22 16:55:28 INFO mapreduce.Job: Job job_1521700201014_0017 completed successfully\n",
      "18/03/22 16:55:28 INFO mapreduce.Job: Counters: 50\n",
      "\tFile System Counters\n",
      "\t\tFILE: Number of bytes read=6224888\n",
      "\t\tFILE: Number of bytes written=13702869\n",
      "\t\tFILE: Number of read operations=0\n",
      "\t\tFILE: Number of large read operations=0\n",
      "\t\tFILE: Number of write operations=0\n",
      "\t\tHDFS: Number of bytes read=5371553\n",
      "\t\tHDFS: Number of bytes written=5370513\n",
      "\t\tHDFS: Number of read operations=27\n",
      "\t\tHDFS: Number of large read operations=0\n",
      "\t\tHDFS: Number of write operations=2\n",
      "\tJob Counters \n",
      "\t\tKilled map tasks=1\n",
      "\t\tLaunched map tasks=8\n",
      "\t\tLaunched reduce tasks=1\n",
      "\t\tData-local map tasks=8\n",
      "\t\tTotal time spent by all maps in occupied slots (ms)=74238\n",
      "\t\tTotal time spent by all reduces in occupied slots (ms)=8706\n",
      "\t\tTotal time spent by all map tasks (ms)=74238\n",
      "\t\tTotal time spent by all reduce tasks (ms)=8706\n",
      "\t\tTotal vcore-milliseconds taken by all map tasks=74238\n",
      "\t\tTotal vcore-milliseconds taken by all reduce tasks=8706\n",
      "\t\tTotal megabyte-milliseconds taken by all map tasks=76019712\n",
      "\t\tTotal megabyte-milliseconds taken by all reduce tasks=8914944\n",
      "\tMap-Reduce Framework\n",
      "\t\tMap input records=427175\n",
      "\t\tMap output records=427175\n",
      "\t\tMap output bytes=5370522\n",
      "\t\tMap output materialized bytes=6224930\n",
      "\t\tInput split bytes=1040\n",
      "\t\tCombine input records=0\n",
      "\t\tCombine output records=0\n",
      "\t\tReduce input groups=427175\n",
      "\t\tReduce shuffle bytes=6224930\n",
      "\t\tReduce input records=427175\n",
      "\t\tReduce output records=427175\n",
      "\t\tSpilled Records=854350\n",
      "\t\tShuffled Maps =8\n",
      "\t\tFailed Shuffles=0\n",
      "\t\tMerged Map outputs=8\n",
      "\t\tGC time elapsed (ms)=964\n",
      "\t\tCPU time spent (ms)=16200\n",
      "\t\tPhysical memory (bytes) snapshot=2257866752\n",
      "\t\tVirtual memory (bytes) snapshot=17647144960\n",
      "\t\tTotal committed heap usage (bytes)=1675100160\n",
      "\tShuffle Errors\n",
      "\t\tBAD_ID=0\n",
      "\t\tCONNECTION=0\n",
      "\t\tIO_ERROR=0\n",
      "\t\tWRONG_LENGTH=0\n",
      "\t\tWRONG_MAP=0\n",
      "\t\tWRONG_REDUCE=0\n",
      "\tFile Input Format Counters \n",
      "\t\tBytes Read=5370513\n",
      "\tFile Output Format Counters \n",
      "\t\tBytes Written=5370513\n",
      "18/03/22 16:55:28 INFO streaming.StreamJob: Output directory: wordrating_result_1521737598904696\n",
      "cat: Unable to write to output stream.\n"
     ]
    }
   ],
   "source": [
    "%%bash\n",
    "\n",
    "WC_DIR=\"wordcount_result_\"$(date +\"%s%6N\")\n",
    "WR_DIR=\"wordrating_result_\"$(date +\"%s%6N\")\n",
    "NUM_REDUCERS=8\n",
    "\n",
    "yarn jar /opt/cloudera/parcels/CDH/lib/hadoop-mapreduce/hadoop-streaming.jar \\\n",
    "    -D mapreduce.job.name=\"Streaming word count\" \\\n",
    "    -D mapreduce.job.reduces=${NUM_REDUCERS} \\\n",
    "    -files mapper.py,reducer.py \\\n",
    "    -mapper \"python mapper.py\" \\\n",
    "    -combiner \"python reducer.py\" \\\n",
    "    -reducer \"python reducer.py\" \\\n",
    "    -input /data/wiki/en_articles_part \\\n",
    "    -output ${WC_DIR} > /dev/null\n",
    "\n",
    "# hdfs dfs -cat ${OUT_DIR}/part-00000 | head\n",
    "NUM_REDUCERS=1\n",
    "\n",
    "yarn jar /opt/cloudera/parcels/CDH/lib/hadoop-mapreduce/hadoop-streaming.jar \\\n",
    "    -D mapreduce.job.name=\"Streaming word rating by count\" \\\n",
    "    -D mapreduce.job.reduces=${NUM_REDUCERS} \\\n",
    "    -files reducer.py \\\n",
    "    -mapper \"cat\" \\\n",
    "    -reducer \"sort -k2nr\" \\\n",
    "    -input ${WC_DIR} \\\n",
    "    -output ${WR_DIR} > /dev/null\n",
    "\n",
    "hdfs dfs -cat ${WR_DIR}/part-00000 | head -7 | tail -1"
   ]
  },
  {
   "cell_type": "code",
   "execution_count": null,
   "metadata": {},
   "outputs": [],
   "source": []
  }
 ],
 "metadata": {
  "kernelspec": {
   "display_name": "Python 2",
   "language": "python",
   "name": "python2"
  },
  "language_info": {
   "codemirror_mode": {
    "name": "ipython",
    "version": 2
   },
   "file_extension": ".py",
   "mimetype": "text/x-python",
   "name": "python",
   "nbconvert_exporter": "python",
   "pygments_lexer": "ipython2",
   "version": "2.7.12"
  }
 },
 "nbformat": 4,
 "nbformat_minor": 2
}
