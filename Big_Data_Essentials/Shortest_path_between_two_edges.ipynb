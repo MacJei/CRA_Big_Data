{
 "cells": [
  {
   "cell_type": "code",
   "execution_count": 1,
   "metadata": {},
   "outputs": [],
   "source": [
    "from pyspark import SparkConf, SparkContext, StorageLevel\n",
    "sc = SparkContext(conf=SparkConf()\n",
    "                  .setAppName(\"Shortest path\")\n",
    "                  .setMaster(\"local[*]\")\n",
    "                  .set('spark.executor.memory', '3G')\n",
    "                  .set('spark.yarn.executor.memoryOverhead', '1024'))"
   ]
  },
  {
   "cell_type": "code",
   "execution_count": 3,
   "metadata": {},
   "outputs": [],
   "source": [
    "def parse_edge(s):\n",
    "  user, follower = s.split(\"\\t\")\n",
    "  return (int(user), int(follower))\n",
    "\n",
    "def step(item):\n",
    "  prev_v, prev_d, next_v = item[0], item[1][0], item[1][1]\n",
    "  return (next_v, prev_d + 1)\n",
    "\n",
    "def complete(item):\n",
    "  v, old_d, new_d = item[0], item[1][0], item[1][1]\n",
    "  return (v, old_d if old_d is not None else new_d)\n",
    "\n",
    "n = 4  # number of partitions\n",
    "edges = sc.textFile(\"/data/twitter/twitter_sample.txt\").map(parse_edge).cache()\n",
    "forward_edges = edges.map(lambda e: (e[1], e[0])).partitionBy(n).persist(StorageLevel.DISK_ONLY)\n",
    "\n",
    "x = 12 # edge to start from\n",
    "y = 34 # edge to finish at\n",
    "d = 0  # initial distance\n",
    "distances = sc.parallelize([(x, d)]).partitionBy(n)\n",
    "\n",
    "while True:\n",
    "    outer =  distances.filter(lambda i:i[1]==d)\n",
    "    candidates = outer.join(forward_edges, n).map(step)\n",
    "    new_distances = distances.fullOuterJoin(candidates, n).map(complete, True).persist(StorageLevel.DISK_ONLY)\n",
    "    count = new_distances.filter(lambda i: i[1] == d + 1).count()\n",
    "    count_y = new_distances.filter(lambda i:i[0] == y).count()\n",
    "    \n",
    "    #print (\"%d\\t%d\" % (d, count))\n",
    "    d += 1\n",
    "    distances = new_distances\n",
    "    \n",
    "    if count_y > 0:\n",
    "        #print d\n",
    "        break\n"
   ]
  },
  {
   "cell_type": "code",
   "execution_count": 4,
   "metadata": {},
   "outputs": [
    {
     "name": "stdout",
     "output_type": "stream",
     "text": [
      "12,422,53,52,107,20,23,274,34\n"
     ]
    }
   ],
   "source": [
    "path = [y]\n",
    "while d > 1:\n",
    "    distances_y = sc.parallelize([(y, 0)]).partitionBy(n)\n",
    "    candidates_y = distances_y.join(edges, n).map(step)\n",
    "    path_link = distances.filter(lambda i: i[1] == d - 1).join(candidates_y)\n",
    "    prev_path_member = path_link.take(1)[0][0]\n",
    "    path = [prev_path_member] + path\n",
    "    y = prev_path_member\n",
    "    d = d - 1\n",
    "path = [x] + path\n",
    "print ','.join(map(str,path))"
   ]
  }
 ],
 "metadata": {
  "kernelspec": {
   "display_name": "Python 2",
   "language": "python",
   "name": "python2"
  },
  "language_info": {
   "codemirror_mode": {
    "name": "ipython",
    "version": 2
   },
   "file_extension": ".py",
   "mimetype": "text/x-python",
   "name": "python",
   "nbconvert_exporter": "python",
   "pygments_lexer": "ipython2",
   "version": "2.7.12"
  }
 },
 "nbformat": 4,
 "nbformat_minor": 2
}
