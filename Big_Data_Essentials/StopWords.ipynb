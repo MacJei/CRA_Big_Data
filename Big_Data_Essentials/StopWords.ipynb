{
 "cells": [
  {
   "cell_type": "code",
   "execution_count": 24,
   "metadata": {},
   "outputs": [
    {
     "name": "stdout",
     "output_type": "stream",
     "text": [
      "Overwriting mapper.py\n"
     ]
    }
   ],
   "source": [
    "%%writefile mapper.py\n",
    "\n",
    "import sys\n",
    "import re\n",
    "\n",
    "reload(sys)\n",
    "sys.setdefaultencoding('utf-8') # required to convert to unicode\n",
    "\n",
    "with open(\"stop_words_en.txt\") as f:\n",
    "    content = f.readlines()\n",
    "\n",
    "stop_words = [x.strip() for x in content] \n",
    "\n",
    "for line in sys.stdin:\n",
    "    try:\n",
    "        article_id, text = unicode(line.strip()).split('\\t', 1)\n",
    "    except ValueError as e:\n",
    "        continue\n",
    "    words = re.split(\"\\W*\\s+\\W*\", text, flags=re.UNICODE)\n",
    "    for word in words:\n",
    "        print >> sys.stderr, \"reporter:counter:Wiki stats,total_words,%d\" % 1\n",
    "        if word in stop_words:\n",
    "            print >> sys.stderr, \"reporter:counter:Wiki stats,stop_words,%d\" % 1\n",
    "        print \"%s\\t%d\" % (word.lower(), 1)"
   ]
  },
  {
   "cell_type": "code",
   "execution_count": 25,
   "metadata": {},
   "outputs": [
    {
     "name": "stdout",
     "output_type": "stream",
     "text": [
      "/datasets/stop_words_en.txt\n"
     ]
    }
   ],
   "source": [
    "%%bash\n",
    "ls /datasets/stop_words_en.txt"
   ]
  },
  {
   "cell_type": "code",
   "execution_count": 26,
   "metadata": {},
   "outputs": [
    {
     "name": "stdout",
     "output_type": "stream",
     "text": [
      "Overwriting reducer.py\n"
     ]
    }
   ],
   "source": [
    "%%writefile reducer.py\n",
    "\n",
    "import sys\n",
    "\n",
    "current_key = None\n",
    "word_sum = 0"
   ]
  },
  {
   "cell_type": "code",
   "execution_count": 27,
   "metadata": {},
   "outputs": [
    {
     "name": "stdout",
     "output_type": "stream",
     "text": [
      "Appending to reducer.py\n"
     ]
    }
   ],
   "source": [
    "%%writefile -a reducer.py\n",
    "\n",
    "for line in sys.stdin:\n",
    "    try:\n",
    "        key, count = line.strip().split('\\t', 1)\n",
    "        count = int(count)\n",
    "    except ValueError as e:\n",
    "        continue\n",
    "    if current_key != key:\n",
    "        if current_key:\n",
    "            print \"%s\\t%d\" % (current_key, word_sum)\n",
    "        word_sum = 0\n",
    "        current_key = key\n",
    "    word_sum += count\n",
    "\n",
    "if current_key:\n",
    "    print \"%s\\t%d\" % (current_key, word_sum)"
   ]
  },
  {
   "cell_type": "code",
   "execution_count": 28,
   "metadata": {},
   "outputs": [
    {
     "name": "stdout",
     "output_type": "stream",
     "text": [
      "-rwxrwxrwx   1 jovyan supergroup     73.3 M 2017-11-28 21:41 /data/wiki/en_articles_part/articles-part\r\n"
     ]
    }
   ],
   "source": [
    "! hdfs dfs -ls -h /data/wiki/en_articles_part/articles-part"
   ]
  },
  {
   "cell_type": "code",
   "execution_count": 29,
   "metadata": {},
   "outputs": [],
   "source": [
    "%%bash\n",
    "\n",
    "WC_DIR=\"wordcount_result_\"$(date +\"%s%6N\")\n",
    "NUM_REDUCERS=0\n",
    "\n",
    "yarn jar /opt/cloudera/parcels/CDH/lib/hadoop-mapreduce/hadoop-streaming.jar \\\n",
    "    -D mapreduce.job.name=\"Streaming word count\" \\\n",
    "    -D mapreduce.job.reduces=${NUM_REDUCERS} \\\n",
    "    -files mapper.py,reducer.py,/datasets/stop_words_en.txt \\\n",
    "    -mapper \"python mapper.py\" \\\n",
    "    -reducer \"python reducer.py\" \\\n",
    "    -input /data/wiki/en_articles_part \\\n",
    "    -output ${WC_DIR} &> stopwords.log\n"
   ]
  },
  {
   "cell_type": "code",
   "execution_count": 31,
   "metadata": {},
   "outputs": [
    {
     "name": "stdout",
     "output_type": "stream",
     "text": [
      "38.44\n"
     ]
    },
    {
     "name": "stderr",
     "output_type": "stream",
     "text": [
      "packageJobJar: [/tmp/hadoop-unjar7659308754455584965/] [] /tmp/streamjob3037350715751085202.jar tmpDir=null\n",
      "18/04/06 06:42:46 INFO client.RMProxy: Connecting to ResourceManager at /0.0.0.0:8032\n",
      "18/04/06 06:42:46 INFO client.RMProxy: Connecting to ResourceManager at /0.0.0.0:8032\n",
      "18/04/06 06:42:48 INFO mapred.FileInputFormat: Total input files to process : 1\n",
      "18/04/06 06:42:48 INFO mapreduce.JobSubmitter: number of splits:2\n",
      "18/04/06 06:42:48 INFO mapreduce.JobSubmitter: Submitting tokens for job: job_1522476365161_0002\n",
      "18/04/06 06:42:48 INFO impl.YarnClientImpl: Submitted application application_1522476365161_0002\n",
      "18/04/06 06:42:49 INFO mapreduce.Job: The url to track the job: http://36cf76319fc6:8088/proxy/application_1522476365161_0002/\n",
      "18/04/06 06:42:49 INFO mapreduce.Job: Running job: job_1522476365161_0002\n",
      "18/04/06 06:42:57 INFO mapreduce.Job: Job job_1522476365161_0002 running in uber mode : false\n",
      "18/04/06 06:42:57 INFO mapreduce.Job:  map 0% reduce 0%\n",
      "18/04/06 06:43:14 INFO mapreduce.Job:  map 7% reduce 0%\n",
      "18/04/06 06:43:20 INFO mapreduce.Job:  map 10% reduce 0%\n",
      "18/04/06 06:43:26 INFO mapreduce.Job:  map 13% reduce 0%\n",
      "18/04/06 06:43:32 INFO mapreduce.Job:  map 16% reduce 0%\n",
      "18/04/06 06:43:38 INFO mapreduce.Job:  map 19% reduce 0%\n",
      "18/04/06 06:43:44 INFO mapreduce.Job:  map 22% reduce 0%\n",
      "18/04/06 06:43:50 INFO mapreduce.Job:  map 25% reduce 0%\n",
      "18/04/06 06:43:56 INFO mapreduce.Job:  map 28% reduce 0%\n",
      "18/04/06 06:44:02 INFO mapreduce.Job:  map 31% reduce 0%\n",
      "18/04/06 06:44:08 INFO mapreduce.Job:  map 35% reduce 0%\n",
      "18/04/06 06:44:14 INFO mapreduce.Job:  map 37% reduce 0%\n",
      "18/04/06 06:44:20 INFO mapreduce.Job:  map 40% reduce 0%\n",
      "18/04/06 06:44:26 INFO mapreduce.Job:  map 43% reduce 0%\n",
      "18/04/06 06:44:32 INFO mapreduce.Job:  map 46% reduce 0%\n",
      "18/04/06 06:44:38 INFO mapreduce.Job:  map 49% reduce 0%\n",
      "18/04/06 06:44:44 INFO mapreduce.Job:  map 52% reduce 0%\n",
      "18/04/06 06:44:50 INFO mapreduce.Job:  map 56% reduce 0%\n",
      "18/04/06 06:44:57 INFO mapreduce.Job:  map 59% reduce 0%\n",
      "18/04/06 06:45:02 INFO mapreduce.Job:  map 60% reduce 0%\n",
      "18/04/06 06:45:03 INFO mapreduce.Job:  map 62% reduce 0%\n",
      "18/04/06 06:45:08 INFO mapreduce.Job:  map 63% reduce 0%\n",
      "18/04/06 06:45:09 INFO mapreduce.Job:  map 65% reduce 0%\n",
      "18/04/06 06:45:14 INFO mapreduce.Job:  map 66% reduce 0%\n",
      "18/04/06 06:45:15 INFO mapreduce.Job:  map 68% reduce 0%\n",
      "18/04/06 06:45:20 INFO mapreduce.Job:  map 69% reduce 0%\n",
      "18/04/06 06:45:21 INFO mapreduce.Job:  map 71% reduce 0%\n",
      "18/04/06 06:45:26 INFO mapreduce.Job:  map 73% reduce 0%\n",
      "18/04/06 06:45:27 INFO mapreduce.Job:  map 74% reduce 0%\n",
      "18/04/06 06:45:32 INFO mapreduce.Job:  map 76% reduce 0%\n",
      "18/04/06 06:45:33 INFO mapreduce.Job:  map 78% reduce 0%\n",
      "18/04/06 06:45:38 INFO mapreduce.Job:  map 79% reduce 0%\n",
      "18/04/06 06:45:39 INFO mapreduce.Job:  map 81% reduce 0%\n",
      "18/04/06 06:45:44 INFO mapreduce.Job:  map 83% reduce 0%\n",
      "18/04/06 06:45:45 INFO mapreduce.Job:  map 84% reduce 0%\n",
      "18/04/06 06:45:50 INFO mapreduce.Job:  map 86% reduce 0%\n",
      "18/04/06 06:45:51 INFO mapreduce.Job:  map 87% reduce 0%\n",
      "18/04/06 06:45:56 INFO mapreduce.Job:  map 89% reduce 0%\n",
      "18/04/06 06:45:57 INFO mapreduce.Job:  map 91% reduce 0%\n",
      "18/04/06 06:46:02 INFO mapreduce.Job:  map 92% reduce 0%\n",
      "18/04/06 06:46:03 INFO mapreduce.Job:  map 94% reduce 0%\n",
      "18/04/06 06:46:08 INFO mapreduce.Job:  map 95% reduce 0%\n",
      "18/04/06 06:46:09 INFO mapreduce.Job:  map 97% reduce 0%\n",
      "18/04/06 06:46:14 INFO mapreduce.Job:  map 98% reduce 0%\n",
      "18/04/06 06:46:15 INFO mapreduce.Job:  map 100% reduce 0%\n",
      "18/04/06 06:46:17 INFO mapreduce.Job: Job job_1522476365161_0002 completed successfully\n",
      "18/04/06 06:46:17 INFO mapreduce.Job: Counters: 32\n",
      "\tFile System Counters\n",
      "\t\tFILE: Number of bytes read=0\n",
      "\t\tFILE: Number of bytes written=278930\n",
      "\t\tFILE: Number of read operations=0\n",
      "\t\tFILE: Number of large read operations=0\n",
      "\t\tFILE: Number of write operations=0\n",
      "\t\tHDFS: Number of bytes read=76874501\n",
      "\t\tHDFS: Number of bytes written=97842427\n",
      "\t\tHDFS: Number of read operations=10\n",
      "\t\tHDFS: Number of large read operations=0\n",
      "\t\tHDFS: Number of write operations=4\n",
      "\tJob Counters \n",
      "\t\tLaunched map tasks=2\n",
      "\t\tData-local map tasks=2\n",
      "\t\tTotal time spent by all maps in occupied slots (ms)=393698\n",
      "\t\tTotal time spent by all reduces in occupied slots (ms)=0\n",
      "\t\tTotal time spent by all map tasks (ms)=393698\n",
      "\t\tTotal vcore-milliseconds taken by all map tasks=393698\n",
      "\t\tTotal megabyte-milliseconds taken by all map tasks=403146752\n",
      "\tMap-Reduce Framework\n",
      "\t\tMap input records=4100\n",
      "\t\tMap output records=11937375\n",
      "\t\tInput split bytes=228\n",
      "\t\tSpilled Records=0\n",
      "\t\tFailed Shuffles=0\n",
      "\t\tMerged Map outputs=0\n",
      "\t\tGC time elapsed (ms)=797\n",
      "\t\tCPU time spent (ms)=534760\n",
      "\t\tPhysical memory (bytes) snapshot=292147200\n",
      "\t\tVirtual memory (bytes) snapshot=3928010752\n",
      "\t\tTotal committed heap usage (bytes)=148373504\n",
      "\tWiki stats\n",
      "\t\tstop_words=4588771\n",
      "\t\ttotal_words=11937375\n",
      "\tFile Input Format Counters \n",
      "\t\tBytes Read=76874273\n",
      "\tFile Output Format Counters \n",
      "\t\tBytes Written=97842427\n",
      "18/04/06 06:46:17 INFO streaming.StreamJob: Output directory: wordcount_result_1522996964012511\n"
     ]
    }
   ],
   "source": [
    "%%bash\n",
    "\n",
    "# print answer\n",
    "total_words=$(grep 'total_words' stopwords.log | cut -d= -f2)\n",
    "stop_words=$(grep 'stop_words' stopwords.log | cut -d= -f2)\n",
    "percent=$(awk \"BEGIN { pc=100*${stop_words}/${total_words}; printf \\\"%.2f\\\", pc }\")\n",
    "echo $percent\n",
    "\n",
    "# print log to stderr for grader\n",
    "cat stopwords.log >&2"
   ]
  },
  {
   "cell_type": "code",
   "execution_count": null,
   "metadata": {},
   "outputs": [],
   "source": []
  }
 ],
 "metadata": {
  "kernelspec": {
   "display_name": "Python 2",
   "language": "python",
   "name": "python2"
  },
  "language_info": {
   "codemirror_mode": {
    "name": "ipython",
    "version": 2
   },
   "file_extension": ".py",
   "mimetype": "text/x-python",
   "name": "python",
   "nbconvert_exporter": "python",
   "pygments_lexer": "ipython2",
   "version": "2.7.12"
  }
 },
 "nbformat": 4,
 "nbformat_minor": 2
}
